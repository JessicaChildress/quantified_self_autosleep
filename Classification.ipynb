{
 "cells": [
  {
   "cell_type": "markdown",
   "metadata": {},
   "source": [
    "## This is where I will do the classifications for my data"
   ]
  },
  {
   "cell_type": "markdown",
   "metadata": {},
   "source": [
    "* First, I need to load the data and quickly merge the dataframes..."
   ]
  },
  {
   "cell_type": "code",
   "execution_count": 157,
   "metadata": {},
   "outputs": [
    {
     "data": {
      "text/plain": [
       "Index(['fromDate', 'bedtime', 'waketime', 'asleep', 'efficiency', 'quality',\n",
       "       'sleepBPM', 'wakingBPM', 'hrv'],\n",
       "      dtype='object')"
      ]
     },
     "execution_count": 157,
     "metadata": {},
     "output_type": "execute_result"
    }
   ],
   "source": [
    "import pandas as pd\n",
    "import numpy as np \n",
    "import utils \n",
    "import importlib\n",
    "importlib.reload(utils)\n",
    "\n",
    "\n",
    "# First we need to import our data from a csv file: \n",
    "df = pd.read_csv(\"AutoSleep.csv\", header=0)\n",
    "days_df = pd.read_csv(\"days_of_week.csv\", header=0)\n",
    "\n",
    "df_2 = pd.read_csv(\"AutoSleep_part2.csv\", header=0)\n",
    "days_part_2 = pd.read_csv(\"days_test.csv\", header=0)\n",
    "join = [df, df_2]\n",
    "join_days = [days_df, days_part_2]\n",
    "\n",
    "df = pd.concat(join, ignore_index=True)\n",
    "df = df.iloc[:-1 , :]\n",
    "# df.drop(df.index[-1], axis=0, inplace=True)\n",
    "days_df = pd.concat(join_days, ignore_index=True)\n",
    "days_df = days_df.iloc[:-1 , :]\n",
    "# days_df.drop(days_df.index[-1], axis=0, inplace=True)\n",
    "\n",
    "for col in df:\n",
    "    check_for_nan = df[col].isnull().values.any()\n",
    "    if check_for_nan == True:\n",
    "        # print (col, check_for_nan, df[col].isnull().count())\n",
    "        df.drop(col, axis=1, inplace=True)\n",
    "\n",
    "df.drop(['ISO8601', 'toDate', 'inBed',\n",
    "       'awake', 'fellAsleepIn', 'sessions', 'asleepAvg7', 'efficiencyAvg7', \n",
    "       'qualityAvg7', 'sleepBPMAvg7', 'wakingBPMAvg7','hrvAvg7'], axis=1, inplace=True)\n",
    "\n",
    "\n",
    "merged_df = days_df.merge(df, on='fromDate')\n",
    "merged_df = utils.clean_sleep(df, 'asleep')\n",
    "\n",
    "\n",
    "df['efficiency'] = df['efficiency'].astype('int')\n",
    "df.columns"
   ]
  },
  {
   "cell_type": "markdown",
   "metadata": {},
   "source": [
    "### KNN Classifier "
   ]
  },
  {
   "cell_type": "code",
   "execution_count": 158,
   "metadata": {},
   "outputs": [
    {
     "data": {
      "text/plain": [
       "count     60.000000\n",
       "mean      93.916667\n",
       "std       10.312559\n",
       "min       55.000000\n",
       "25%       93.750000\n",
       "50%       98.000000\n",
       "75%      100.000000\n",
       "max      100.000000\n",
       "Name: efficiency, dtype: float64"
      ]
     },
     "execution_count": 158,
     "metadata": {},
     "output_type": "execute_result"
    }
   ],
   "source": [
    "# distribution of the data \n",
    "attribute = merged_df['efficiency']\n",
    "attribute.describe()"
   ]
  },
  {
   "cell_type": "code",
   "execution_count": 161,
   "metadata": {},
   "outputs": [
    {
     "name": "stdout",
     "output_type": "stream",
     "text": [
      "<class 'numpy.ndarray'>\n"
     ]
    }
   ],
   "source": [
    "# Apply scaling \n",
    "from sklearn.preprocessing import LabelEncoder\n",
    "from sklearn.preprocessing import MinMaxScaler\n",
    "\n",
    "le = LabelEncoder()\n",
    "df_encoded = merged_df.copy()\n",
    "clean_merged = df_encoded.drop(['fromDate', 'efficiency'], axis=1)\n",
    "for col in clean_merged:\n",
    "    df_encoded[col] = le.fit_transform(clean_merged[col])\n",
    "df_encoded\n",
    "\n",
    "X = df_encoded.drop(['fromDate','efficiency'], axis=1)\n",
    "y = df_encoded['efficiency']\n",
    "\n",
    "scaler = MinMaxScaler()\n",
    "X = scaler.fit_transform(X) \n",
    "\n",
    "X_train = X[0:54]\n",
    "y_train = y.drop([54, 55, 56, 57, 58, 59], axis=0)\n",
    "X_test = X[54:60]\n",
    "y_actual = y.iloc[54:60]"
   ]
  },
  {
   "cell_type": "code",
   "execution_count": 169,
   "metadata": {},
   "outputs": [
    {
     "name": "stdout",
     "output_type": "stream",
     "text": [
      "the predicted values are: [ 99  99  87  87  87 100]\n",
      "the actual values are: [99, 98, 97, 100, 95, 65]\n",
      "0.16666666666666666\n"
     ]
    }
   ],
   "source": [
    "from sklearn.neighbors import KNeighborsClassifier\n",
    "from sklearn.model_selection import train_test_split\n",
    "from sklearn.metrics import accuracy_score\n",
    "from sklearn.model_selection import StratifiedKFold \n",
    "\n",
    "\n",
    "# train/build/fit\n",
    "knn_clf = KNeighborsClassifier(n_neighbors=3, metric=\"euclidean\")\n",
    "knn_clf.fit(X_train, y_train)\n",
    "\n",
    "# # predict\n",
    "y_predicted_knn = knn_clf.predict(X_test)\n",
    "print(\"the predicted values are:\", y_predicted_knn)\n",
    "\n",
    "print(\"the actual values are:\", y_actual.to_list())\n",
    "knn_accuracy = accuracy_score(y_actual, y_predicted_knn)\n",
    "print(knn_accuracy)"
   ]
  },
  {
   "cell_type": "code",
   "execution_count": 172,
   "metadata": {},
   "outputs": [
    {
     "name": "stdout",
     "output_type": "stream",
     "text": [
      "[ 76  76  99  99 100  73] 54     99\n",
      "55     98\n",
      "56     97\n",
      "57    100\n",
      "58     95\n",
      "59     65\n",
      "Name: efficiency, dtype: int32\n",
      "0.0\n"
     ]
    }
   ],
   "source": [
    "from sklearn import tree \n",
    "\n",
    "tree_clf = tree.DecisionTreeClassifier(random_state=0)\n",
    "\n",
    "#train the model\n",
    "tree_clf.fit(X_train, y_train)\n",
    "tree_clf.score(X_train, y_train)\n",
    "y_predicted = tree_clf.predict(X_test)\n",
    "print(y_predicted, y_actual)\n",
    "accuracy = accuracy_score(y_actual, y_predicted)\n",
    "print(accuracy)"
   ]
  },
  {
   "cell_type": "code",
   "execution_count": null,
   "metadata": {},
   "outputs": [],
   "source": [
    "import matplotlib.pyplot as plt\n",
    "\n"
   ]
  }
 ],
 "metadata": {
  "interpreter": {
   "hash": "d39278030b8cdfddab1ee69d65cded590a3b76e14bf3d1e4ef88bfde762024ed"
  },
  "kernelspec": {
   "display_name": "Python 3.9.7 ('base')",
   "language": "python",
   "name": "python3"
  },
  "language_info": {
   "codemirror_mode": {
    "name": "ipython",
    "version": 3
   },
   "file_extension": ".py",
   "mimetype": "text/x-python",
   "name": "python",
   "nbconvert_exporter": "python",
   "pygments_lexer": "ipython3",
   "version": "3.9.7"
  },
  "orig_nbformat": 4
 },
 "nbformat": 4,
 "nbformat_minor": 2
}
