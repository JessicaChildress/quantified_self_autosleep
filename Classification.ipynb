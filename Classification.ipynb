{
 "cells": [
  {
   "cell_type": "markdown",
   "metadata": {},
   "source": [
    "## This is where I will do the classifications for my data"
   ]
  },
  {
   "cell_type": "markdown",
   "metadata": {},
   "source": [
    "* First, I need to load the data and quickly merge the dataframes..."
   ]
  },
  {
   "cell_type": "code",
   "execution_count": 74,
   "metadata": {},
   "outputs": [],
   "source": [
    "import pandas as pd\n",
    "import numpy as np \n",
    "import utils \n",
    "import importlib\n",
    "importlib.reload(utils)\n",
    "\n",
    "\n",
    "# First we need to import our data from a csv file: \n",
    "df = pd.read_csv(\"AutoSleep.csv\", header=0)\n",
    "days_df = pd.read_csv(\"days_of_week.csv\", header=0)\n",
    "\n",
    "df_2 = pd.read_csv(\"AutoSleep_part2.csv\", header=0)\n",
    "days_part_2 = pd.read_csv(\"days_test.csv\", header=0)\n",
    "join = [df, df_2]\n",
    "join_days = [days_df, days_part_2]\n",
    "\n",
    "df = pd.concat(join)\n",
    "df = df.iloc[:-1 , :]\n",
    "# df.drop(df.index[-1], axis=0, inplace=True)\n",
    "days_df = pd.concat(join_days)\n",
    "days_df = days_df.iloc[:-1 , :]\n",
    "# days_df.drop(days_df.index[-1], axis=0, inplace=True)\n",
    "\n",
    "for col in df:\n",
    "    check_for_nan = df[col].isnull().values.any()\n",
    "    if check_for_nan == True:\n",
    "        # print (col, check_for_nan, df[col].isnull().count())\n",
    "        df.drop(col, axis=1, inplace=True)\n",
    "\n",
    "df.drop(['ISO8601', 'toDate', 'inBed',\n",
    "       'awake', 'fellAsleepIn', 'sessions', 'asleepAvg7', 'efficiencyAvg7', \n",
    "       'qualityAvg7', 'sleepBPMAvg7', 'wakingBPMAvg7','hrvAvg7'], axis=1, inplace=True)\n",
    "\n",
    "merged_df = days_df.merge(df, on='fromDate')\n",
    "merged_df = utils.clean_sleep(df, 'asleep')"
   ]
  },
  {
   "cell_type": "markdown",
   "metadata": {},
   "source": [
    "### KNN Classifier "
   ]
  },
  {
   "cell_type": "code",
   "execution_count": 75,
   "metadata": {},
   "outputs": [
    {
     "data": {
      "text/plain": [
       "count     60.000000\n",
       "mean      94.180000\n",
       "std       10.214344\n",
       "min       55.300000\n",
       "25%       94.550000\n",
       "50%       98.750000\n",
       "75%      100.000000\n",
       "max      100.000000\n",
       "Name: efficiency, dtype: float64"
      ]
     },
     "execution_count": 75,
     "metadata": {},
     "output_type": "execute_result"
    }
   ],
   "source": [
    "# distribution of the data \n",
    "attribute = merged_df['efficiency']\n",
    "attribute.describe()"
   ]
  },
  {
   "cell_type": "code",
   "execution_count": 76,
   "metadata": {},
   "outputs": [],
   "source": [
    "# Apply scaling \n",
    "from sklearn import preprocessing \n",
    "from sklearn.preprocessing import MinMaxScaler\n",
    "\n",
    "le = preprocessing.LabelEncoder()\n",
    "df_encoded = merged_df.copy()\n",
    "\n",
    "clean_merged = df_encoded.drop(['fromDate', 'efficiency'], axis=1)\n",
    "for col in clean_merged:\n",
    "    # print(col)\n",
    "    df_encoded[col] = le.fit_transform(clean_merged[col])\n",
    "    # list(le.classes_,)\n",
    "\n",
    "# X_train = df_encoded.drop(['fromDate','efficiency'], axis=1)\n",
    "# y_train = df_encoded['efficiency']\n",
    "# y_train = y_train.astype(float)\n",
    "# # print(X_train, y_train, sep=\"\\n\")\n",
    "# # print(test_df_encoded)\n",
    "\n",
    "X = df_encoded.drop(['fromDate', 'efficiency'], axis=1)\n",
    "y_ser = df_encoded['efficiency']\n",
    "y = y_ser.to_frame()\n",
    "\n",
    "scaler = MinMaxScaler()\n",
    "X = scaler.fit_transform(X) \n",
    "# # typically fit and transform are combined fit_transform()\n",
    "# # print(\"******\\nX-train scaled:\", X_train_scaled, \"\\n*******\")\n",
    "# X_test = test_df_encoded.drop(['fromDate','efficiency'], axis=1)\n",
    "# X_test_scaled = scaler.transform(X_test)\n",
    "# # print(X_test_scaled)\n",
    "\n",
    "# # print(y_train)\n",
    "# # print(type(y_train))"
   ]
  },
  {
   "cell_type": "code",
   "execution_count": 77,
   "metadata": {},
   "outputs": [],
   "source": [
    "from sklearn.neighbors import KNeighborsClassifier\n",
    "from sklearn.model_selection import train_test_split\n",
    "from sklearn.metrics import accuracy_score\n",
    "from sklearn.model_selection import StratifiedKFold \n",
    "\n",
    "# print(len(X_test_scaled), len(y_train), len(X_train_scaled))\n",
    "# print(type(y_train))\n",
    "\n",
    "# # train/build/fit\n",
    "# knn_clf = KNeighborsClassifier(n_neighbors=3, metric=\"euclidean\")\n",
    "# knn_clf.fit(X_train_scaled, y_train)\n",
    "\n",
    "# # predict\n",
    "# y_predicted = knn_clf.predict(X_test_scaled)\n",
    "# print(\"the predicted values are:\", y_predicted)\n",
    "\n",
    "# a = merged_test['efficiency'].to_list()\n",
    "# y_actual = [int(a) for a in a]\n",
    "# print(y_actual)\n",
    "\n",
    "# for i in range(len(y_predicted)):\n",
    "#     print(y_actual[i], y_predicted[i])"
   ]
  },
  {
   "cell_type": "code",
   "execution_count": 90,
   "metadata": {},
   "outputs": [
    {
     "name": "stdout",
     "output_type": "stream",
     "text": [
      "15.0\n"
     ]
    },
    {
     "ename": "TypeError",
     "evalue": "train_test_split() got an unexpected keyword argument 'n_splits'",
     "output_type": "error",
     "traceback": [
      "\u001b[1;31m---------------------------------------------------------------------------\u001b[0m",
      "\u001b[1;31mTypeError\u001b[0m                                 Traceback (most recent call last)",
      "\u001b[1;32m~\\AppData\\Local\\Temp/ipykernel_20728/929697630.py\u001b[0m in \u001b[0;36m<module>\u001b[1;34m\u001b[0m\n\u001b[0;32m      6\u001b[0m \u001b[1;31m# as the original dataset\u001b[0m\u001b[1;33m\u001b[0m\u001b[1;33m\u001b[0m\u001b[0m\n\u001b[0;32m      7\u001b[0m \u001b[0mX_train\u001b[0m\u001b[1;33m,\u001b[0m \u001b[0mX_test\u001b[0m\u001b[1;33m,\u001b[0m \u001b[0my_train\u001b[0m\u001b[1;33m,\u001b[0m \u001b[0my_test\u001b[0m \u001b[1;33m=\u001b[0m\u001b[0;31m\\\u001b[0m\u001b[1;33m\u001b[0m\u001b[1;33m\u001b[0m\u001b[0m\n\u001b[1;32m----> 8\u001b[1;33m     train_test_split(X, y, test_size=0.25, n_splits=2,\n\u001b[0m\u001b[0;32m      9\u001b[0m     random_state=0, stratify=y)\n\u001b[0;32m     10\u001b[0m \u001b[1;31m# print(X_test)\u001b[0m\u001b[1;33m\u001b[0m\u001b[1;33m\u001b[0m\u001b[0m\n",
      "\u001b[1;31mTypeError\u001b[0m: train_test_split() got an unexpected keyword argument 'n_splits'"
     ]
    }
   ],
   "source": [
    "print(len(X)*0.25) # ceil(4.5) -> 5\n",
    "# random_state is used for reproducible\n",
    "# shuffling\n",
    "# stratify is used to get a similar distribution\n",
    "# of class labels in the train/test sets\n",
    "# as the original dataset\n",
    "X_train, X_test, y_train, y_test =\\\n",
    "    train_test_split(X, y, test_size=0.25, n_splits=2,\n",
    "    random_state=0, stratify=y)\n",
    "# print(X_test)\n",
    "# print(y_test)\n",
    "\n",
    "knn_clf = KNeighborsClassifier(n_neighbors=3,\n",
    "    metric=\"euclidean\")\n",
    "knn_clf.fit(X_train, y_train)\n",
    "y_predicted = knn_clf.predict(X_test)\n",
    "print(\"y predicted:\", y_predicted)\n",
    "print(\"y actual (AKA y true)\", y_test.tolist())\n",
    "# 80% accuracy\n",
    "accuracy = knn_clf.score(X_test, y_test)\n",
    "print(\"accuracy:\", accuracy)\n",
    "accuracy = accuracy_score(y_test, y_predicted)\n",
    "print(\"accuracy:\", accuracy)\n"
   ]
  },
  {
   "cell_type": "code",
   "execution_count": null,
   "metadata": {},
   "outputs": [],
   "source": []
  }
 ],
 "metadata": {
  "interpreter": {
   "hash": "9eca0f8e8b5ed14a8159c77e9a9affa65fdf3bec561237f1140d81a05605e1db"
  },
  "kernelspec": {
   "display_name": "Python 3.9.7 ('base')",
   "language": "python",
   "name": "python3"
  },
  "language_info": {
   "codemirror_mode": {
    "name": "ipython",
    "version": 3
   },
   "file_extension": ".py",
   "mimetype": "text/x-python",
   "name": "python",
   "nbconvert_exporter": "python",
   "pygments_lexer": "ipython3",
   "version": "3.9.7"
  },
  "orig_nbformat": 4
 },
 "nbformat": 4,
 "nbformat_minor": 2
}
