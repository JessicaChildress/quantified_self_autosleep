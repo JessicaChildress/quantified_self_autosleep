{
 "cells": [
  {
   "cell_type": "markdown",
   "metadata": {},
   "source": [
    "# Hypothesis Testing "
   ]
  },
  {
   "cell_type": "markdown",
   "metadata": {},
   "source": [
    "## Step One: State Null and Alternative Hypothesis\n",
    "\n",
    "* $H_0$ = Getting more sleep does not increase efficiency rating\n",
    "* $H_1$ = Getting more sleep increases efficiency rating"
   ]
  },
  {
   "cell_type": "markdown",
   "metadata": {},
   "source": [
    "## Step Two: Decide on a Level of Significance \n",
    "\n",
    "* $\\alpha$ = 0.05\n"
   ]
  },
  {
   "cell_type": "markdown",
   "metadata": {},
   "source": [
    "## Step Three: Select the Appropriate Test Statistic\n",
    "\n",
    "* Use t-test for two independent samples\n",
    "* $t = \\frac{\\overline{X_1}-\\overline{X_2}}{\\sqrt{s_p^2(\\frac{1}{n_1}+\\frac{1}{n_2})}}$\n",
    "* `ttest_ind()`"
   ]
  },
  {
   "cell_type": "code",
   "execution_count": 64,
   "metadata": {},
   "outputs": [
    {
     "data": {
      "text/plain": [
       "<module 'utils' from 'c:\\\\Users\\\\jskye\\\\OneDrive - Gonzaga University\\\\Spring 2022\\\\CPSC 222 - Intro to Data Science\\\\AutoSleep Project\\\\utils.py'>"
      ]
     },
     "execution_count": 64,
     "metadata": {},
     "output_type": "execute_result"
    }
   ],
   "source": [
    "import pandas as pd\n",
    "import numpy as np \n",
    "import utils \n",
    "import importlib\n",
    "importlib.reload(utils)"
   ]
  },
  {
   "cell_type": "code",
   "execution_count": 65,
   "metadata": {},
   "outputs": [],
   "source": [
    "df = pd.read_csv(\"AutoSleep.csv\")\n",
    "df_2 = pd.read_csv(\"AutoSleep_test.csv\")\n",
    "join = [df, df_2]\n",
    "df = pd.concat(join)\n",
    "\n",
    "# this for loop drops columns where all instances are null\n",
    "for col in df:\n",
    "    check_for_nan = df[col].isnull().values.any()\n",
    "    if check_for_nan == True:\n",
    "        # print (col, check_for_nan, df[col].isnull().count())\n",
    "        df.drop(col, axis=1, inplace=True)\n",
    "\n",
    "\n",
    "df.drop(['ISO8601', 'toDate', 'inBed',\n",
    "       'awake', 'fellAsleepIn', 'sessions', 'asleepAvg7', 'efficiencyAvg7', \n",
    "       'qualityAvg7', 'sleepBPMAvg7', 'wakingBPMAvg7','hrvAvg7'], axis=1, inplace=True)\n",
    "\n",
    "df = utils.clean_sleep(df, 'asleep')\n",
    "sleep = df['asleep']\n",
    "efficiency = df['efficiency']\n",
    "print(efficiency.head())"
   ]
  },
  {
   "cell_type": "code",
   "execution_count": 66,
   "metadata": {},
   "outputs": [
    {
     "name": "stdout",
     "output_type": "stream",
     "text": [
      "0     98.8\n",
      "1     92.7\n",
      "2     97.4\n",
      "3    100.0\n",
      "4     98.7\n",
      "Name: efficiency, dtype: float64\n"
     ]
    }
   ],
   "source": [
    "\n",
    "\n",
    "x_bar_sleep = sleep.mean()\n",
    "x_bar_eff = efficiency.mean()\n",
    "s_sleep = sleep.std()\n",
    "s_eff = efficiency.std()\n",
    "n_sleep = len(sleep)\n",
    "n_eff = len(efficiency)\n",
    "dof = n_sleep + n_eff - 2"
   ]
  },
  {
   "cell_type": "code",
   "execution_count": 67,
   "metadata": {},
   "outputs": [
    {
     "name": "stdout",
     "output_type": "stream",
     "text": [
      "t: 28.619192904439423 pval: 9.525936029646529e-56\n",
      "reject H0\n"
     ]
    }
   ],
   "source": [
    "from scipy import stats\n",
    "\n",
    "# check our work with sci-py\n",
    "# 1-tailed\n",
    "t, pval = stats.ttest_ind(sleep, efficiency)\n",
    "pval /= 2 # divide by two because 1 rejection region\n",
    "print(\"t:\", t, \"pval:\", pval)\n",
    "alpha = 0.05\n",
    "if pval < alpha:\n",
    "    print(\"reject H0\")\n",
    "else:\n",
    "    print(\"do not reject H0\")\n"
   ]
  }
 ],
 "metadata": {
  "interpreter": {
   "hash": "9eca0f8e8b5ed14a8159c77e9a9affa65fdf3bec561237f1140d81a05605e1db"
  },
  "kernelspec": {
   "display_name": "Python 3.9.7 ('base')",
   "language": "python",
   "name": "python3"
  },
  "language_info": {
   "codemirror_mode": {
    "name": "ipython",
    "version": 3
   },
   "file_extension": ".py",
   "mimetype": "text/x-python",
   "name": "python",
   "nbconvert_exporter": "python",
   "pygments_lexer": "ipython3",
   "version": "3.9.7"
  },
  "orig_nbformat": 4
 },
 "nbformat": 4,
 "nbformat_minor": 2
}
