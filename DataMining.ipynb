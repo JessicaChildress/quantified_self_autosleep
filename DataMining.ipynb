{
 "cells": [
  {
   "cell_type": "markdown",
   "metadata": {},
   "source": [
    "# AutoSleep Data \n"
   ]
  },
  {
   "cell_type": "code",
   "execution_count": 139,
   "metadata": {},
   "outputs": [],
   "source": [
    "import pandas as pd\n",
    "import numpy as np \n",
    "\n",
    "\n",
    "# First we need to import our data from a csv file: \n",
    "df = pd.read_csv(\"AutoSleep.csv\", header=0)\n"
   ]
  },
  {
   "cell_type": "markdown",
   "metadata": {},
   "source": [
    "## Explore the Data & Handle Missing Values\n",
    "* With this dataset, it appears that the nights I wasn't wearing my watch were not recorded so there are no missing values\n",
    "* There are, however, `np.NaN` values in the columns tracking blood oxygen levels because my Apple Watch doesn't have that capability. \n",
    "    * Since this data is missing throughout the entire time interval of the dataset, I will be deleting those rows from the dataframe.\n",
    "* This is nice except when I want to compare it so another source of data, it will be a little more difficult to combine \n",
    "without filling in the missing dates on the autosleep data or removing those dates from the other dataset. \n"
   ]
  },
  {
   "cell_type": "code",
   "execution_count": 140,
   "metadata": {},
   "outputs": [
    {
     "name": "stdout",
     "output_type": "stream",
     "text": [
      "Index(['ISO8601', 'fromDate', 'toDate', 'bedtime', 'waketime', 'inBed',\n",
      "       'awake', 'fellAsleepIn', 'sessions', 'asleep', 'asleepAvg7',\n",
      "       'efficiency', 'efficiencyAvg7', 'quality', 'qualityAvg7', 'deep',\n",
      "       'deepAvg7', 'sleepBPM', 'sleepBPMAvg7', 'dayBPM', 'dayBPMAvg7',\n",
      "       'wakingBPM', 'wakingBPMAvg7', 'hrv', 'hrvAvg7', 'SpO2Avg', 'SpO2Min',\n",
      "       'SpO2Max', 'respAvg', 'respMin', 'respMax', 'tags', 'notes'],\n",
      "      dtype='object')\n",
      "deep True 48\n",
      "deepAvg7 True 48\n",
      "dayBPM True 48\n",
      "dayBPMAvg7 True 48\n",
      "SpO2Avg True 48\n",
      "SpO2Min True 48\n",
      "SpO2Max True 48\n",
      "respAvg True 48\n",
      "respMin True 48\n",
      "respMax True 48\n",
      "tags True 48\n",
      "notes True 48\n",
      "after dropping empty columns:                      ISO8601                fromDate                  toDate  \\\n",
      "0  2022-01-28T20:59:59-08:00  Thursday, Jan 27, 2022    Friday, Jan 28, 2022   \n",
      "1  2022-01-29T20:59:59-08:00    Friday, Jan 28, 2022  Saturday, Jan 29, 2022   \n",
      "2  2022-01-30T20:59:59-08:00  Saturday, Jan 29, 2022    Sunday, Jan 30, 2022   \n",
      "3  2022-02-06T20:59:59-08:00   Saturday, Feb 5, 2022     Sunday, Feb 6, 2022   \n",
      "4  2022-02-07T20:59:59-08:00     Sunday, Feb 6, 2022     Monday, Feb 7, 2022   \n",
      "\n",
      "               bedtime             waketime     inBed     awake fellAsleepIn  \\\n",
      "0  2022-01-27 22:46:00  2022-01-28 07:03:00  08:17:00  00:06:00     00:00:00   \n",
      "1  2022-01-28 23:00:00  2022-01-29 10:50:00  11:50:00  00:52:00     00:00:00   \n",
      "2  2022-01-30 03:34:04  2022-01-30 10:30:00  06:55:55  00:10:55     00:10:55   \n",
      "3  2022-02-06 01:15:00  2022-02-06 09:44:00  08:29:00  00:00:00     00:00:00   \n",
      "4  2022-02-06 23:00:00  2022-02-07 06:32:00  07:32:00  00:06:00     00:00:00   \n",
      "\n",
      "   sessions    asleep  ... efficiency  efficiencyAvg7   quality qualityAvg7  \\\n",
      "0         1  08:11:00  ...       98.8            98.8  06:31:06    06:31:06   \n",
      "1         1  10:58:00  ...       92.7            95.7  08:16:04    07:23:35   \n",
      "2         1  06:45:00  ...       97.4            96.3  05:52:30    06:53:13   \n",
      "3         1  08:29:00  ...      100.0            97.2  06:48:05    06:51:56   \n",
      "4         1  07:26:00  ...       98.7            97.5  06:06:28    06:42:51   \n",
      "\n",
      "  sleepBPM  sleepBPMAvg7  wakingBPM  wakingBPMAvg7  hrv  hrvAvg7  \n",
      "0     55.5          55.5       52.0           52.0   54       54  \n",
      "1     57.4          56.4       55.0           53.5   76       65  \n",
      "2     58.4          57.1       56.0           54.3   59       63  \n",
      "3     62.7          58.5       71.0           58.5   75       66  \n",
      "4     59.9          58.8       57.0           58.2  102       73  \n",
      "\n",
      "[5 rows x 21 columns]\n"
     ]
    }
   ],
   "source": [
    "# What are the column names?\n",
    "print(df.columns)\n",
    "# It might be useful if I make a table that translates some of the column nates such as \"ISO8601\" and \"qualityAvg7\"\n",
    "\n",
    "# print(df.head(5))\n",
    "# print(df.tail(5))\n",
    "\n",
    "# this for loop returns true if a column has any null values\n",
    "for col in df:\n",
    "    check_for_nan = df[col].isnull().values.any()\n",
    "    if check_for_nan == True:\n",
    "        print (col, check_for_nan, df[col].isnull().count())\n",
    "        df.drop(col, axis=1, inplace=True)\n",
    "\n",
    "print(\"after dropping empty columns:\", df.head())"
   ]
  },
  {
   "cell_type": "markdown",
   "metadata": {},
   "source": [
    "The following Columns have missing values for every instance in the dataset:\n",
    "* deep \n",
    "* deepAvg7 \n",
    "* dayBPM \n",
    "* dayBPMAvg7 \n",
    "* SpO2Avg \n",
    "* SpO2Min \n",
    "* SpO2Max \n",
    "* respAvg \n",
    "* respMin \n",
    "* respMax \n",
    "* tags \n",
    "* notes "
   ]
  },
  {
   "cell_type": "markdown",
   "metadata": {},
   "source": [
    "## Now for some Summary Statistics: \n",
    "* Summarize the following into a pandas Series:\n",
    "    * `nights_total` = total number nights logged\n",
    "    * `avg_sleep` = average sleep \n",
    "    * `avg_[day]` = average sleep for each day of the week\n",
    "    * `std_sleep` = standard deviation of sleep \n",
    "    * `std_[day]` = standard deviation for each day of the week\n",
    "    * `mode_hours` = most common sleep length (rounded to the nearest hour)\n",
    "    * `mode_day` = most common day of the week when mode sleep length occurred\n"
   ]
  },
  {
   "cell_type": "code",
   "execution_count": 141,
   "metadata": {},
   "outputs": [
    {
     "name": "stdout",
     "output_type": "stream",
     "text": [
      "average time slept: ['7.0 hours 23.0 mins 18.75 seconds']\n"
     ]
    },
    {
     "ename": "TypeError",
     "evalue": "cannot concatenate object of type '<class 'str'>'; only Series and DataFrame objs are valid",
     "output_type": "error",
     "traceback": [
      "\u001b[1;31m---------------------------------------------------------------------------\u001b[0m",
      "\u001b[1;31mTypeError\u001b[0m                                 Traceback (most recent call last)",
      "\u001b[1;32m~\\AppData\\Local\\Temp/ipykernel_10356/2867334334.py\u001b[0m in \u001b[0;36m<module>\u001b[1;34m\u001b[0m\n\u001b[0;32m     20\u001b[0m \u001b[1;33m\u001b[0m\u001b[0m\n\u001b[0;32m     21\u001b[0m \u001b[1;31m# 3. average sleep for each day of the week\u001b[0m\u001b[1;33m\u001b[0m\u001b[1;33m\u001b[0m\u001b[0m\n\u001b[1;32m---> 22\u001b[1;33m \u001b[0mmonday\u001b[0m\u001b[1;33m,\u001b[0m \u001b[0mtuesday\u001b[0m\u001b[1;33m,\u001b[0m \u001b[0mwednesday\u001b[0m\u001b[1;33m,\u001b[0m \u001b[0mthursday\u001b[0m\u001b[1;33m,\u001b[0m \u001b[0mfriday\u001b[0m\u001b[1;33m,\u001b[0m \u001b[0msaturday\u001b[0m\u001b[1;33m,\u001b[0m \u001b[0msunday\u001b[0m \u001b[1;33m=\u001b[0m \u001b[0mutils\u001b[0m\u001b[1;33m.\u001b[0m\u001b[0mseparate_days\u001b[0m\u001b[1;33m(\u001b[0m\u001b[0mdf\u001b[0m\u001b[1;33m)\u001b[0m\u001b[1;33m\u001b[0m\u001b[1;33m\u001b[0m\u001b[0m\n\u001b[0m\u001b[0;32m     23\u001b[0m \u001b[0mprint\u001b[0m\u001b[1;33m(\u001b[0m\u001b[0mmonday\u001b[0m\u001b[1;33m)\u001b[0m\u001b[1;33m\u001b[0m\u001b[1;33m\u001b[0m\u001b[0m\n\u001b[0;32m     24\u001b[0m \u001b[1;31m# avg_monday = monday.mean()\u001b[0m\u001b[1;33m\u001b[0m\u001b[1;33m\u001b[0m\u001b[0m\n",
      "\u001b[1;32mc:\\Users\\jskye\\OneDrive - Gonzaga University\\Spring 2022\\CPSC 222 - Intro to Data Science\\AutoSleep Project\\utils.py\u001b[0m in \u001b[0;36mseparate_days\u001b[1;34m(df)\u001b[0m\n\u001b[0;32m     57\u001b[0m         \u001b[0mfri_check\u001b[0m \u001b[1;33m=\u001b[0m \u001b[0mser\u001b[0m\u001b[1;33m.\u001b[0m\u001b[0mstr\u001b[0m\u001b[1;33m.\u001b[0m\u001b[0mcontains\u001b[0m\u001b[1;33m(\u001b[0m\u001b[1;34m'Friday'\u001b[0m\u001b[1;33m,\u001b[0m \u001b[0mcase\u001b[0m\u001b[1;33m=\u001b[0m\u001b[1;32mFalse\u001b[0m\u001b[1;33m,\u001b[0m \u001b[0mna\u001b[0m\u001b[1;33m=\u001b[0m\u001b[1;32mFalse\u001b[0m\u001b[1;33m)\u001b[0m\u001b[1;33m\u001b[0m\u001b[1;33m\u001b[0m\u001b[0m\n\u001b[0;32m     58\u001b[0m         \u001b[1;32mif\u001b[0m \u001b[0mfri_check\u001b[0m\u001b[1;33m.\u001b[0m\u001b[0miloc\u001b[0m\u001b[1;33m[\u001b[0m\u001b[0mi\u001b[0m\u001b[1;33m]\u001b[0m \u001b[1;33m==\u001b[0m \u001b[1;32mTrue\u001b[0m\u001b[1;33m:\u001b[0m\u001b[1;33m\u001b[0m\u001b[1;33m\u001b[0m\u001b[0m\n\u001b[1;32m---> 59\u001b[1;33m             \u001b[0mfri\u001b[0m\u001b[1;33m.\u001b[0m\u001b[0mappend\u001b[0m\u001b[1;33m(\u001b[0m\u001b[0mcurr_day\u001b[0m\u001b[1;33m)\u001b[0m\u001b[1;33m\u001b[0m\u001b[1;33m\u001b[0m\u001b[0m\n\u001b[0m\u001b[0;32m     60\u001b[0m         \u001b[0msat_check\u001b[0m \u001b[1;33m=\u001b[0m \u001b[0mser\u001b[0m\u001b[1;33m.\u001b[0m\u001b[0mstr\u001b[0m\u001b[1;33m.\u001b[0m\u001b[0mcontains\u001b[0m\u001b[1;33m(\u001b[0m\u001b[1;34m'Saturday'\u001b[0m\u001b[1;33m,\u001b[0m \u001b[0mcase\u001b[0m\u001b[1;33m=\u001b[0m\u001b[1;32mFalse\u001b[0m\u001b[1;33m,\u001b[0m \u001b[0mna\u001b[0m\u001b[1;33m=\u001b[0m\u001b[1;32mFalse\u001b[0m\u001b[1;33m)\u001b[0m\u001b[1;33m\u001b[0m\u001b[1;33m\u001b[0m\u001b[0m\n\u001b[0;32m     61\u001b[0m         \u001b[1;32mif\u001b[0m \u001b[0msat_check\u001b[0m\u001b[1;33m.\u001b[0m\u001b[0miloc\u001b[0m\u001b[1;33m[\u001b[0m\u001b[0mi\u001b[0m\u001b[1;33m]\u001b[0m \u001b[1;33m==\u001b[0m \u001b[1;32mTrue\u001b[0m\u001b[1;33m:\u001b[0m\u001b[1;33m\u001b[0m\u001b[1;33m\u001b[0m\u001b[0m\n",
      "\u001b[1;32m~\\anaconda3\\lib\\site-packages\\pandas\\core\\series.py\u001b[0m in \u001b[0;36mappend\u001b[1;34m(self, to_append, ignore_index, verify_integrity)\u001b[0m\n\u001b[0;32m   2875\u001b[0m             \u001b[0mmsg\u001b[0m \u001b[1;33m=\u001b[0m \u001b[1;34m\"to_append should be a Series or list/tuple of Series, got DataFrame\"\u001b[0m\u001b[1;33m\u001b[0m\u001b[1;33m\u001b[0m\u001b[0m\n\u001b[0;32m   2876\u001b[0m             \u001b[1;32mraise\u001b[0m \u001b[0mTypeError\u001b[0m\u001b[1;33m(\u001b[0m\u001b[0mmsg\u001b[0m\u001b[1;33m)\u001b[0m\u001b[1;33m\u001b[0m\u001b[1;33m\u001b[0m\u001b[0m\n\u001b[1;32m-> 2877\u001b[1;33m         return concat(\n\u001b[0m\u001b[0;32m   2878\u001b[0m             \u001b[0mto_concat\u001b[0m\u001b[1;33m,\u001b[0m \u001b[0mignore_index\u001b[0m\u001b[1;33m=\u001b[0m\u001b[0mignore_index\u001b[0m\u001b[1;33m,\u001b[0m \u001b[0mverify_integrity\u001b[0m\u001b[1;33m=\u001b[0m\u001b[0mverify_integrity\u001b[0m\u001b[1;33m\u001b[0m\u001b[1;33m\u001b[0m\u001b[0m\n\u001b[0;32m   2879\u001b[0m         )\n",
      "\u001b[1;32m~\\anaconda3\\lib\\site-packages\\pandas\\util\\_decorators.py\u001b[0m in \u001b[0;36mwrapper\u001b[1;34m(*args, **kwargs)\u001b[0m\n\u001b[0;32m    309\u001b[0m                     \u001b[0mstacklevel\u001b[0m\u001b[1;33m=\u001b[0m\u001b[0mstacklevel\u001b[0m\u001b[1;33m,\u001b[0m\u001b[1;33m\u001b[0m\u001b[1;33m\u001b[0m\u001b[0m\n\u001b[0;32m    310\u001b[0m                 )\n\u001b[1;32m--> 311\u001b[1;33m             \u001b[1;32mreturn\u001b[0m \u001b[0mfunc\u001b[0m\u001b[1;33m(\u001b[0m\u001b[1;33m*\u001b[0m\u001b[0margs\u001b[0m\u001b[1;33m,\u001b[0m \u001b[1;33m**\u001b[0m\u001b[0mkwargs\u001b[0m\u001b[1;33m)\u001b[0m\u001b[1;33m\u001b[0m\u001b[1;33m\u001b[0m\u001b[0m\n\u001b[0m\u001b[0;32m    312\u001b[0m \u001b[1;33m\u001b[0m\u001b[0m\n\u001b[0;32m    313\u001b[0m         \u001b[1;32mreturn\u001b[0m \u001b[0mwrapper\u001b[0m\u001b[1;33m\u001b[0m\u001b[1;33m\u001b[0m\u001b[0m\n",
      "\u001b[1;32m~\\anaconda3\\lib\\site-packages\\pandas\\core\\reshape\\concat.py\u001b[0m in \u001b[0;36mconcat\u001b[1;34m(objs, axis, join, ignore_index, keys, levels, names, verify_integrity, sort, copy)\u001b[0m\n\u001b[0;32m    292\u001b[0m     \u001b[0mValueError\u001b[0m\u001b[1;33m:\u001b[0m \u001b[0mIndexes\u001b[0m \u001b[0mhave\u001b[0m \u001b[0moverlapping\u001b[0m \u001b[0mvalues\u001b[0m\u001b[1;33m:\u001b[0m \u001b[1;33m[\u001b[0m\u001b[1;34m'a'\u001b[0m\u001b[1;33m]\u001b[0m\u001b[1;33m\u001b[0m\u001b[1;33m\u001b[0m\u001b[0m\n\u001b[0;32m    293\u001b[0m     \"\"\"\n\u001b[1;32m--> 294\u001b[1;33m     op = _Concatenator(\n\u001b[0m\u001b[0;32m    295\u001b[0m         \u001b[0mobjs\u001b[0m\u001b[1;33m,\u001b[0m\u001b[1;33m\u001b[0m\u001b[1;33m\u001b[0m\u001b[0m\n\u001b[0;32m    296\u001b[0m         \u001b[0maxis\u001b[0m\u001b[1;33m=\u001b[0m\u001b[0maxis\u001b[0m\u001b[1;33m,\u001b[0m\u001b[1;33m\u001b[0m\u001b[1;33m\u001b[0m\u001b[0m\n",
      "\u001b[1;32m~\\anaconda3\\lib\\site-packages\\pandas\\core\\reshape\\concat.py\u001b[0m in \u001b[0;36m__init__\u001b[1;34m(self, objs, axis, join, keys, levels, names, ignore_index, verify_integrity, copy, sort)\u001b[0m\n\u001b[0;32m    382\u001b[0m                     \u001b[1;34m\"only Series and DataFrame objs are valid\"\u001b[0m\u001b[1;33m\u001b[0m\u001b[1;33m\u001b[0m\u001b[0m\n\u001b[0;32m    383\u001b[0m                 )\n\u001b[1;32m--> 384\u001b[1;33m                 \u001b[1;32mraise\u001b[0m \u001b[0mTypeError\u001b[0m\u001b[1;33m(\u001b[0m\u001b[0mmsg\u001b[0m\u001b[1;33m)\u001b[0m\u001b[1;33m\u001b[0m\u001b[1;33m\u001b[0m\u001b[0m\n\u001b[0m\u001b[0;32m    385\u001b[0m \u001b[1;33m\u001b[0m\u001b[0m\n\u001b[0;32m    386\u001b[0m             \u001b[0mndims\u001b[0m\u001b[1;33m.\u001b[0m\u001b[0madd\u001b[0m\u001b[1;33m(\u001b[0m\u001b[0mobj\u001b[0m\u001b[1;33m.\u001b[0m\u001b[0mndim\u001b[0m\u001b[1;33m)\u001b[0m\u001b[1;33m\u001b[0m\u001b[1;33m\u001b[0m\u001b[0m\n",
      "\u001b[1;31mTypeError\u001b[0m: cannot concatenate object of type '<class 'str'>'; only Series and DataFrame objs are valid"
     ]
    }
   ],
   "source": [
    "# collecting summary statistics:\n",
    "import utils \n",
    "import importlib\n",
    "importlib.reload(utils)\n",
    "\n",
    "summary_stats = []\n",
    "\n",
    "# 1. total number of nights logged\n",
    "nights_total = df.shape[0]\n",
    "summary_stats.append(nights_total)\n",
    "\n",
    "# 2. average hours slept\n",
    "# we need to convert the timestamps into numeric values before we can calculate the mean\n",
    "clean_df = utils.clean_sleep(df, \"asleep\")\n",
    "sleep_ser = clean_df[\"asleep\"]   \n",
    "avg_sleep_secs = sleep_ser.mean()\n",
    "hours, mins, secs, avg_sleep = utils.sec_to_hours(avg_sleep_secs)\n",
    "print(\"average time slept:\", avg_sleep)\n",
    "summary_stats.append(avg_sleep)\n",
    "\n",
    "# 3. average sleep for each day of the week\n",
    "monday, tuesday, wednesday, thursday, friday, saturday, sunday = utils.separate_days(df)\n",
    "print(monday)\n",
    "# avg_monday = monday.mean()\n",
    "# avg_tuesday = tuesday.mean()\n",
    "# avg_wednesday = wednesday.mean()\n",
    "# avg_thursday = thursday.mean()\n",
    "# avg_friday = friday.mean()\n",
    "# avg_saturday = saturday.mean()\n",
    "# avg_sunday = sunday.mean()\n",
    "# summary_stats.append([avg_monday, avg_tuesday, avg_wednesday, avg_thursday, avg_friday, avg_saturday, avg_sunday])\n",
    "# print(\"test:\", summary_stats)"
   ]
  },
  {
   "cell_type": "code",
   "execution_count": null,
   "metadata": {},
   "outputs": [],
   "source": []
  }
 ],
 "metadata": {
  "interpreter": {
   "hash": "9eca0f8e8b5ed14a8159c77e9a9affa65fdf3bec561237f1140d81a05605e1db"
  },
  "kernelspec": {
   "display_name": "Python 3.9.7 ('base')",
   "language": "python",
   "name": "python3"
  },
  "language_info": {
   "codemirror_mode": {
    "name": "ipython",
    "version": 3
   },
   "file_extension": ".py",
   "mimetype": "text/x-python",
   "name": "python",
   "nbconvert_exporter": "python",
   "pygments_lexer": "ipython3",
   "version": "3.9.7"
  },
  "orig_nbformat": 4
 },
 "nbformat": 4,
 "nbformat_minor": 2
}
