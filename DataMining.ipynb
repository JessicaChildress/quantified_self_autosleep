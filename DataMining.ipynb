{
 "cells": [
  {
   "cell_type": "markdown",
   "metadata": {},
   "source": [
    "# AutoSleep Data \n"
   ]
  },
  {
   "cell_type": "code",
   "execution_count": 4,
   "metadata": {},
   "outputs": [
    {
     "name": "stdout",
     "output_type": "stream",
     "text": [
      "                     ISO8601                fromDate                toDate  \\\n",
      "0  2022-01-28T20:59:59-08:00  Thursday, Jan 27, 2022  Friday, Jan 28, 2022   \n",
      "\n",
      "               bedtime             waketime     inBed     awake fellAsleepIn  \\\n",
      "0  2022-01-27 22:46:00  2022-01-28 07:03:00  08:17:00  00:06:00     00:00:00   \n",
      "\n",
      "   sessions    asleep  ... hrv  hrvAvg7  SpO2Avg SpO2Min SpO2Max respAvg  \\\n",
      "0         1  08:11:00  ...  54       54      NaN     NaN     NaN    17.3   \n",
      "\n",
      "  respMin  respMax  tags  notes  \n",
      "0    14.0     26.0   NaN    NaN  \n",
      "\n",
      "[1 rows x 33 columns]\n"
     ]
    }
   ],
   "source": [
    "import pandas as pd\n",
    "import numpy as np \n",
    "\n",
    "\n",
    "# First we need to import our data from a csv file: \n",
    "df = pd.read_csv(\"AutoSleep.csv\")\n",
    "\n",
    "\n"
   ]
  }
 ],
 "metadata": {
  "interpreter": {
   "hash": "9eca0f8e8b5ed14a8159c77e9a9affa65fdf3bec561237f1140d81a05605e1db"
  },
  "kernelspec": {
   "display_name": "Python 3.9.7 ('base')",
   "language": "python",
   "name": "python3"
  },
  "language_info": {
   "codemirror_mode": {
    "name": "ipython",
    "version": 3
   },
   "file_extension": ".py",
   "mimetype": "text/x-python",
   "name": "python",
   "nbconvert_exporter": "python",
   "pygments_lexer": "ipython3",
   "version": "3.9.7"
  },
  "orig_nbformat": 4
 },
 "nbformat": 4,
 "nbformat_minor": 2
}
