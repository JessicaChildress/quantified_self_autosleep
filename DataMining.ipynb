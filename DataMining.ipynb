{
 "cells": [
  {
   "cell_type": "markdown",
   "metadata": {},
   "source": [
    "# AutoSleep Data \n"
   ]
  },
  {
   "cell_type": "code",
   "execution_count": 247,
   "metadata": {},
   "outputs": [],
   "source": [
    "import pandas as pd\n",
    "import numpy as np \n",
    "\n",
    "\n",
    "# First we need to import our data from a csv file: \n",
    "df = pd.read_csv(\"AutoSleep.csv\", header=0)\n"
   ]
  },
  {
   "cell_type": "markdown",
   "metadata": {},
   "source": [
    "## Explore the Data & Handle Missing Values\n",
    "* With this dataset, it appears that the nights I wasn't wearing my watch were not recorded so there are no missing values\n",
    "* There are, however, `np.NaN` values in the columns tracking blood oxygen levels because my Apple Watch doesn't have that capability. \n",
    "    * Since this data is missing throughout the entire time interval of the dataset, I will be deleting those rows from the dataframe.\n",
    "* This is nice except when I want to compare it so another source of data, it will be a little more difficult to combine \n",
    "without filling in the missing dates on the autosleep data or removing those dates from the other dataset. \n"
   ]
  },
  {
   "cell_type": "code",
   "execution_count": 248,
   "metadata": {},
   "outputs": [
    {
     "name": "stdout",
     "output_type": "stream",
     "text": [
      "Index(['ISO8601', 'fromDate', 'toDate', 'bedtime', 'waketime', 'inBed',\n",
      "       'awake', 'fellAsleepIn', 'sessions', 'asleep', 'asleepAvg7',\n",
      "       'efficiency', 'efficiencyAvg7', 'quality', 'qualityAvg7', 'deep',\n",
      "       'deepAvg7', 'sleepBPM', 'sleepBPMAvg7', 'dayBPM', 'dayBPMAvg7',\n",
      "       'wakingBPM', 'wakingBPMAvg7', 'hrv', 'hrvAvg7', 'SpO2Avg', 'SpO2Min',\n",
      "       'SpO2Max', 'respAvg', 'respMin', 'respMax', 'tags', 'notes'],\n",
      "      dtype='object')\n",
      "deep True 48\n",
      "deepAvg7 True 48\n",
      "dayBPM True 48\n",
      "dayBPMAvg7 True 48\n",
      "SpO2Avg True 48\n",
      "SpO2Min True 48\n",
      "SpO2Max True 48\n",
      "respAvg True 48\n",
      "respMin True 48\n",
      "respMax True 48\n",
      "tags True 48\n",
      "notes True 48\n",
      "after dropping empty columns:                      ISO8601                fromDate                  toDate  \\\n",
      "0  2022-01-28T20:59:59-08:00  Thursday, Jan 27, 2022    Friday, Jan 28, 2022   \n",
      "1  2022-01-29T20:59:59-08:00    Friday, Jan 28, 2022  Saturday, Jan 29, 2022   \n",
      "2  2022-01-30T20:59:59-08:00  Saturday, Jan 29, 2022    Sunday, Jan 30, 2022   \n",
      "3  2022-02-06T20:59:59-08:00   Saturday, Feb 5, 2022     Sunday, Feb 6, 2022   \n",
      "4  2022-02-07T20:59:59-08:00     Sunday, Feb 6, 2022     Monday, Feb 7, 2022   \n",
      "\n",
      "               bedtime             waketime     inBed     awake fellAsleepIn  \\\n",
      "0  2022-01-27 22:46:00  2022-01-28 07:03:00  08:17:00  00:06:00     00:00:00   \n",
      "1  2022-01-28 23:00:00  2022-01-29 10:50:00  11:50:00  00:52:00     00:00:00   \n",
      "2  2022-01-30 03:34:04  2022-01-30 10:30:00  06:55:55  00:10:55     00:10:55   \n",
      "3  2022-02-06 01:15:00  2022-02-06 09:44:00  08:29:00  00:00:00     00:00:00   \n",
      "4  2022-02-06 23:00:00  2022-02-07 06:32:00  07:32:00  00:06:00     00:00:00   \n",
      "\n",
      "   sessions    asleep  ... efficiency  efficiencyAvg7   quality qualityAvg7  \\\n",
      "0         1  08:11:00  ...       98.8            98.8  06:31:06    06:31:06   \n",
      "1         1  10:58:00  ...       92.7            95.7  08:16:04    07:23:35   \n",
      "2         1  06:45:00  ...       97.4            96.3  05:52:30    06:53:13   \n",
      "3         1  08:29:00  ...      100.0            97.2  06:48:05    06:51:56   \n",
      "4         1  07:26:00  ...       98.7            97.5  06:06:28    06:42:51   \n",
      "\n",
      "  sleepBPM  sleepBPMAvg7  wakingBPM  wakingBPMAvg7  hrv  hrvAvg7  \n",
      "0     55.5          55.5       52.0           52.0   54       54  \n",
      "1     57.4          56.4       55.0           53.5   76       65  \n",
      "2     58.4          57.1       56.0           54.3   59       63  \n",
      "3     62.7          58.5       71.0           58.5   75       66  \n",
      "4     59.9          58.8       57.0           58.2  102       73  \n",
      "\n",
      "[5 rows x 21 columns]\n"
     ]
    }
   ],
   "source": [
    "# What are the column names?\n",
    "print(df.columns)\n",
    "# It might be useful if I make a table that translates some of the column nates such as \"ISO8601\" and \"qualityAvg7\"\n",
    "\n",
    "# print(df.head(5))\n",
    "# print(df.tail(5))\n",
    "\n",
    "# this for loop returns true if a column has any null values\n",
    "for col in df:\n",
    "    check_for_nan = df[col].isnull().values.any()\n",
    "    if check_for_nan == True:\n",
    "        print (col, check_for_nan, df[col].isnull().count())\n",
    "        df.drop(col, axis=1, inplace=True)\n",
    "\n",
    "print(\"after dropping empty columns:\", df.head())"
   ]
  },
  {
   "cell_type": "markdown",
   "metadata": {},
   "source": [
    "The following Columns have missing values for every instance in the dataset:\n",
    "* deep \n",
    "* deepAvg7 \n",
    "* dayBPM \n",
    "* dayBPMAvg7 \n",
    "* SpO2Avg \n",
    "* SpO2Min \n",
    "* SpO2Max \n",
    "* respAvg \n",
    "* respMin \n",
    "* respMax \n",
    "* tags \n",
    "* notes "
   ]
  },
  {
   "cell_type": "markdown",
   "metadata": {},
   "source": [
    "## Now for some Summary Statistics: \n",
    "* Summarize the following into a pandas Series:\n",
    "    * `nights_total` = total number nights logged\n",
    "    * `avg_sleep` = average sleep \n",
    "    * `avg_[day]` = average sleep for each day of the week\n",
    "    * `std_sleep` = standard deviation of sleep \n",
    "    * `std_[day]` = standard deviation for each day of the week\n",
    "    * `mode_hours` = most common sleep length (rounded to the nearest hour)\n",
    "    * `mode_day` = most common day of the week when mode sleep length occurred\n"
   ]
  },
  {
   "cell_type": "code",
   "execution_count": 249,
   "metadata": {},
   "outputs": [
    {
     "name": "stdout",
     "output_type": "stream",
     "text": [
      "average time slept: ['7.0 hours 23.0 mins 18.75 seconds']\n",
      "    Monday  Tuesday  Wednesday  Thursday   Friday  Saturday   Sunday\n",
      "0  25200.0  34020.0    22320.0   29460.0  39480.0     24300  26760.0\n",
      "1  31680.0  23400.0    21600.0   16740.0  23940.0     30540  31980.0\n",
      "2  35160.0  32400.0     9000.0   13980.0  28020.0     27900  18540.0\n",
      "3  26340.0  24240.0    33540.0   12000.0  29580.0      4920  31620.0\n",
      "4  32520.0  23640.0    24420.0   38460.0  35760.0     13680  28080.0\n",
      "5  18120.0  21180.0        NaN   23820.0      NaN     40260  29940.0\n",
      "6      NaN  25260.0        NaN   30780.0      NaN     29160  32460.0\n",
      "7      NaN      NaN        NaN   27840.0      NaN     30180  31620.0\n",
      "8      NaN      NaN        NaN       NaN      NaN     30900      NaN\n",
      "test: [48, ['7.0 hours 23.0 mins 18.75 seconds'], [['7.0 hours 49.0 mins 30.0 seconds'], ['7.0 hours 18.0 mins 25.714285714286234 seconds'], ['6.0 hours 9.0 mins 36.0 seconds'], ['6.0 hours 42.0 mins 15.0 seconds'], ['8.0 hours 42.0 mins 36.0 seconds'], ['7.0 hours 9.0 mins 20.0 seconds'], ['8.0 hours 1.0 mins 15.0 seconds']], ['2.0 hours 7.0 mins 25.636114526029814 seconds'], [['1.0 hours 43.0 mins 37.31453281881204 seconds'], ['1.0 hours 21.0 mins 36.14425557791037 seconds'], ['2.0 hours 26.0 mins 16.894667249915074 seconds'], ['2.0 hours 33.0 mins 52.02345874712046 seconds'], ['1.0 hours 43.0 mins 38.414588944677234 seconds'], ['2.0 hours 54.0 mins 33.52376232564893 seconds'], ['1.0 hours 17.0 mins 18.580447877191546 seconds']]]\n",
      "0    8.78\n",
      "dtype: object\n"
     ]
    }
   ],
   "source": [
    "# collecting summary statistics:\n",
    "import utils \n",
    "import importlib\n",
    "importlib.reload(utils)\n",
    "\n",
    "summary_stats = []\n",
    "\n",
    "# 1. total number of nights logged\n",
    "nights_total = df.shape[0]\n",
    "summary_stats.append(nights_total)\n",
    "\n",
    "# 2. average hours slept\n",
    "# we need to convert the timestamps into numeric values before we can calculate the mean\n",
    "clean_df = utils.clean_sleep(df, \"asleep\")\n",
    "sleep_ser = clean_df[\"asleep\"]   \n",
    "avg_sleep_secs = sleep_ser.mean()\n",
    "avg_sleep = utils.sec_to_hours(avg_sleep_secs)\n",
    "print(\"average time slept:\", avg_sleep)\n",
    "summary_stats.append(avg_sleep)\n",
    "\n",
    "# 3. average sleep for each day of the week\n",
    "days_of_week = utils.separate_days(df)\n",
    "week_df = pd.DataFrame(days_of_week)\n",
    "print(week_df)\n",
    "avg_monday = utils.sec_to_hours(week_df[\"Monday\"].dropna().mean())\n",
    "avg_tuesday =  utils.sec_to_hours(week_df[\"Tuesday\"].dropna().mean())\n",
    "avg_wednesday =  utils.sec_to_hours(week_df[\"Wednesday\"].dropna().mean())\n",
    "avg_thursday =  utils.sec_to_hours(week_df[\"Thursday\"].dropna().mean())\n",
    "avg_friday =  utils.sec_to_hours(week_df[\"Friday\"].dropna().mean())\n",
    "avg_saturday =  utils.sec_to_hours(week_df[\"Saturday\"].dropna().mean())\n",
    "avg_sunday =  utils.sec_to_hours(week_df[\"Sunday\"].dropna().mean())\n",
    "summary_stats.append([avg_monday, avg_tuesday, avg_wednesday, avg_thursday, avg_friday, avg_saturday, avg_sunday])\n",
    "\n",
    "# 4. standard deviation of sleep\n",
    "std_sleep = utils.sec_to_hours(sleep_ser.std())\n",
    "summary_stats.append(std_sleep)\n",
    "\n",
    "#5. standard deviation for each day of the week\n",
    "std_mon = utils.sec_to_hours(week_df[\"Monday\"].dropna().std())\n",
    "std_tues = utils.sec_to_hours(week_df[\"Tuesday\"].dropna().std())\n",
    "std_wed = utils.sec_to_hours(week_df[\"Wednesday\"].dropna().std())\n",
    "std_thurs = utils.sec_to_hours(week_df[\"Thursday\"].dropna().std())\n",
    "std_fri = utils.sec_to_hours(week_df[\"Friday\"].dropna().std())\n",
    "std_sat = utils.sec_to_hours(week_df[\"Saturday\"].dropna().std())\n",
    "std_sun = utils.sec_to_hours(week_df[\"Sunday\"].dropna().std())\n",
    "summary_stats.append([std_mon, std_tues, std_wed, std_thurs, std_fri, std_sat, std_sun])\n",
    "\n",
    "\n",
    "# 6. most common sleep length rounded to the nearest hour\n",
    "ser = sleep_ser.copy()\n",
    "for i in range(len(sleep_ser)):\n",
    "    hours = round(sleep_ser[i]/3600, 2)\n",
    "    ser[i] = hours\n",
    "mode_hours = ser.mode()\n",
    "print(mode_hours) # 8.78 is about 8 hours and 45 minutes! \n",
    "summary_stats.append(mode_hours)\n",
    "\n",
    "# 7. most common day that I got 8.78 hours of sleep on \n",
    "\n"
   ]
  },
  {
   "cell_type": "code",
   "execution_count": null,
   "metadata": {},
   "outputs": [],
   "source": []
  }
 ],
 "metadata": {
  "interpreter": {
   "hash": "9eca0f8e8b5ed14a8159c77e9a9affa65fdf3bec561237f1140d81a05605e1db"
  },
  "kernelspec": {
   "display_name": "Python 3.9.7 ('base')",
   "language": "python",
   "name": "python3"
  },
  "language_info": {
   "codemirror_mode": {
    "name": "ipython",
    "version": 3
   },
   "file_extension": ".py",
   "mimetype": "text/x-python",
   "name": "python",
   "nbconvert_exporter": "python",
   "pygments_lexer": "ipython3",
   "version": "3.9.7"
  },
  "orig_nbformat": 4
 },
 "nbformat": 4,
 "nbformat_minor": 2
}
