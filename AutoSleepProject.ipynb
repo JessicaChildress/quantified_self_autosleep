{
 "cells": [
  {
   "cell_type": "markdown",
   "metadata": {},
   "source": [
    "# Introduction\n",
    "\n",
    "For this project, I chose to analyze my sleep data (collected using the AutoSleep app on my Apple Watch), along with the activity data that my Apple Watch records. I am very interested in the health benefits of sleep and exercise, and appreciate how they can regulate mood, reduce stress and even play off of one another. This semester has been very stressful for me and I haven't been making adequate sleep and exercise daily priorities. I am hoping that these findings on my own personal data will motivate me to prioritize myself more in the future. After some searching, I was able to find a way for both of the datasets to be exported as .csv files. Apple Health exports data as XML files but using a third-party application solved that problem. \n",
    "\n",
    "#### What tables are in the dataset? \n",
    "1. AutoSleep Data \n",
    "    * the table provided by AutoSleep shows data that was collected using time stamps, as well as heart rate and respiration measurements. \n",
    "1. Activity Data \n"
   ]
  },
  {
   "cell_type": "markdown",
   "metadata": {},
   "source": [
    "# Data Analysis\n",
    "\n",
    "* With this dataset, it appears that the nights I wasn't wearing my watch were not recorded so there are no missing values, just gaps in the timeline. \n",
    "* There are, however, `np.NaN` values in the columns tracking blood oxygen levels because my Apple Watch doesn't have that capability. \n",
    "    * Since this data is missing throughout the entire time interval of the dataset, I deleted the column from my dataframe.\n",
    "* Since the dates are not continuous, I had to clean the activity data I want to merge so that it reflects the dates represented in the AutoSleep dataframe. After doing this, I merged the the two dataframes together using the dates column as the common key.\n",
    "* To aggregate the data, I used a split-appl-combine approach...\n",
    "* "
   ]
  }
 ],
 "metadata": {
  "language_info": {
   "name": "python"
  },
  "orig_nbformat": 4
 },
 "nbformat": 4,
 "nbformat_minor": 2
}
