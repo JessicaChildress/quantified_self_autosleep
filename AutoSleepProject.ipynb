{
 "cells": [
  {
   "cell_type": "markdown",
   "metadata": {},
   "source": [
    "# Introduction\n",
    "\n",
    "* The domain I selected for this project is my sleep data collected by an application on my AppleWatch called AutoSleep. This domain is important to me because unlike most of my peers, I am an early morning person. My body naturally wakes up around 6:30am without fail, unless I go to bed later than usual. The purpose of this research was to try to identify a correlation between when I go to sleep/wake up, and the efficiency rating of my sleep. \n",
    "* The dataset consists of 2 .csv files\n",
    "* There are two tables in the dataset, one table contains all of the AutoSleep data from the first history export I made, beginning on January 27th and ending on April 12th. The second table contains data from April 13th to April 29th. \n",
    "* The data in the AutoSleep tables is collected through my AppleWatch, by sensing when I have put my phone down for the night, as well as monitoring my heart rate to determine when I have fallen asleep and what stage of the sleep cycle I am in.\n",
    "* There are 48 instances in the first table, and 13 instances in the second table, for a combined total of 61 instances of sleep data. \n",
    "* In the Autosleep tables, the following attributes were provided for each night's sleep:\n",
    "    * From Date/To Date - the date the sleep session was recorded in\n",
    "    * Bedtime / Waketime - the time you went to bed and awoke. Using Light Off feature gives a more accurate bedtime\n",
    "    * InBed - how long you were in bed for, shown in hours, minutes and seconds\n",
    "    * Awake - how long you were awake for, shown in hours, minutes and seconds\n",
    "    * Fell Asleep - if you use the Lights Off feature, this will populate with the amount time it took you to fall asleep\n",
    "    * Sessions - the number of sleep sessions recorded during the from and to date\n",
    "    * Asleep / AsleepAvg7 - the sleep duration recorded along with the 7 day sleep duration average on that date\n",
    "    * Efficiency / EfficiencyAvg7 - the ratio of time asleep versus time spent in bed along with the 7 day efficiency average\n",
    "    * Quality / QualityAvg7 - quality considers how long you have slept, how restless you've been and your sleeping heart rate. It is shown as hours, minutes and seconds along with a 7 day sleep quality average\n",
    "    * Deep / DeepAvg7 - where your heart rate slows and your muscles relax to a point where you barely move.  It is shown as hours, minutes and seconds along with a 7 day deep sleep average\n",
    "    * SleepBPM / SleepBPMAvg7 - your average heart rate shown in beats per minute for the sleep, along with a 7 day average of your sleeping heart rate\n",
    "    * DayBPM / DayBPMAvg7 - your average heart rate outside of your sleep, generally during the day for most users, shown in beats per minute, along with a 7 day average of your daily heart rate\n",
    "    * WakingBPM / WakingBPMAvg7 - your waking pulse shown in beats per minute which is automatically captured by AutoSleep , along with a 7 day waking pulse average\n",
    "    * HRV / HRVAvg7- your Heart Rate Variability that was automatically captured by the Apple Watch or using the breathe app. AutoSleep will use the maximum value where multiple values exist for the same date. This will also show a 7 day average of your HRV\n",
    "    * SpO2Avg/ SpO2Min / SpO2Max - your Blood Oxygen that was automatically captured by the Apple Watch while you sleep. Remember that you need background measures enabled for automatic measurements while you sleep\n",
    "    * Tags / Notes - any emoji tags or notes recorded will appear in the export\n",
    "* In the dataset, I am trying to classify the efficiency of my nightly snoozes. \n",
    "* These results have the potential of showing me what length of sleep and heart rate(s) may or may not correspond to a more efficient night's rest. \n",
    "* The only stakeholder insterested in these results is myself, however if I were to find soemthing significant, it may be grounds for further research, which is when others might become interested, such as doctors and psychologists (although I highly doubt that 60 days worth of sleep tracking is going to produce anything)\n"
   ]
  },
  {
   "cell_type": "markdown",
   "metadata": {},
   "source": [
    "Data Analysis: Provide details about the dataset, data preparation, exploratory data analysis, and statistical analysis. More specifically:\n",
    "What cleaning of the dataset did you need to perform (e.g.. are there missing values and how did you handle the missing values)\n",
    "How are you merging the tables\n",
    "What are challenges with data preparation\n",
    "What data aggregation techniques are you applying\n",
    "What visualizations informatively present the attributes and relationships\n",
    "What statistical hypothesis tests are you computing\n",
    "Make sure you set your null and alternative hypotheses up correctly. Please come see me if you have questions about how to do this\n"
   ]
  },
  {
   "cell_type": "markdown",
   "metadata": {},
   "source": [
    "# Data Analysis \n",
    "\n",
    "|The dataset didn't need much cleaning. There were a few columns that were completely empty or because data was unique to each column (dates and times) or was irrelevant to the classification goal and as such, the following columns were removed from the dataframe: \n",
    "    |deep \n",
    "    |deepAvg7 \n",
    "    |dayBPM \n",
    "    |dayBPMAvg7 \n",
    "    |SpO2Avg \n",
    "    |SpO2Min \n",
    "    |SpO2Max \n",
    "    |respAvg \n",
    "    |respMin \n",
    "    |respMax \n",
    "    |tags \n",
    "    |notes \n",
    "\n",
    "    |ISO8601 \n",
    "    |toDate\n",
    "    |inBed\n",
    "    |awake \n",
    "    |fellAsleepIn \n",
    "    |sessions\n",
    "    |asleepAvg7 \n",
    "    |efficiencyAvg7 \n",
    "    |qualityAvg7 \n",
    "    |sleepBPMAvg7 \n",
    "    |wakingBPMAvg7\n",
    "    |hrvAvg7\n",
    "    "
   ]
  }
 ],
 "metadata": {
  "language_info": {
   "name": "python"
  },
  "orig_nbformat": 4
 },
 "nbformat": 4,
 "nbformat_minor": 2
}
